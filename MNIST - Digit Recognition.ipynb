{
 "cells": [
  {
   "cell_type": "markdown",
   "metadata": {
    "toc": true
   },
   "source": [
    "<h1>Table of Contents<span class=\"tocSkip\"></span></h1>\n",
    "<div class=\"toc\"><ul class=\"toc-item\"><li><span><a href=\"#Problem-Statement\" data-toc-modified-id=\"Problem-Statement-1\"><span class=\"toc-item-num\">1&nbsp;&nbsp;</span>Problem Statement</a></span></li><li><span><a href=\"#Data-Source\" data-toc-modified-id=\"Data-Source-2\"><span class=\"toc-item-num\">2&nbsp;&nbsp;</span>Data Source</a></span></li><li><span><a href=\"#Importing-the-libraries\" data-toc-modified-id=\"Importing-the-libraries-3\"><span class=\"toc-item-num\">3&nbsp;&nbsp;</span>Importing the libraries</a></span></li><li><span><a href=\"#Importing-the-Dataset\" data-toc-modified-id=\"Importing-the-Dataset-4\"><span class=\"toc-item-num\">4&nbsp;&nbsp;</span>Importing the Dataset</a></span><ul class=\"toc-item\"><li><span><a href=\"#Dataset-Info\" data-toc-modified-id=\"Dataset-Info-4.1\"><span class=\"toc-item-num\">4.1&nbsp;&nbsp;</span>Dataset Info</a></span></li><li><span><a href=\"#Loading-train-images\" data-toc-modified-id=\"Loading-train-images-4.2\"><span class=\"toc-item-num\">4.2&nbsp;&nbsp;</span>Loading train images</a></span></li><li><span><a href=\"#Loading-test-images\" data-toc-modified-id=\"Loading-test-images-4.3\"><span class=\"toc-item-num\">4.3&nbsp;&nbsp;</span>Loading test images</a></span></li></ul></li><li><span><a href=\"#Exploratory-Data-Analysis\" data-toc-modified-id=\"Exploratory-Data-Analysis-5\"><span class=\"toc-item-num\">5&nbsp;&nbsp;</span>Exploratory Data Analysis</a></span><ul class=\"toc-item\"><li><span><a href=\"#Countplot\" data-toc-modified-id=\"Countplot-5.1\"><span class=\"toc-item-num\">5.1&nbsp;&nbsp;</span>Countplot</a></span></li><li><span><a href=\"#View-the-images-in-the-dataset\" data-toc-modified-id=\"View-the-images-in-the-dataset-5.2\"><span class=\"toc-item-num\">5.2&nbsp;&nbsp;</span>View the images in the dataset</a></span></li></ul></li><li><span><a href=\"#Model-Building\" data-toc-modified-id=\"Model-Building-6\"><span class=\"toc-item-num\">6&nbsp;&nbsp;</span>Model Building</a></span><ul class=\"toc-item\"><li><span><a href=\"#Evaluating-the-model-performance\" data-toc-modified-id=\"Evaluating-the-model-performance-6.1\"><span class=\"toc-item-num\">6.1&nbsp;&nbsp;</span>Evaluating the model performance</a></span><ul class=\"toc-item\"><li><span><a href=\"#Plotting-the-loss-and-accuracy-curves-for-training-and-validation\" data-toc-modified-id=\"Plotting-the-loss-and-accuracy-curves-for-training-and-validation-6.1.1\"><span class=\"toc-item-num\">6.1.1&nbsp;&nbsp;</span>Plotting the loss and accuracy curves for training and validation</a></span></li><li><span><a href=\"#Plotting-the-Confusion-Matrix\" data-toc-modified-id=\"Plotting-the-Confusion-Matrix-6.1.2\"><span class=\"toc-item-num\">6.1.2&nbsp;&nbsp;</span>Plotting the Confusion Matrix</a></span></li></ul></li><li><span><a href=\"#Predicting-the-test-data\" data-toc-modified-id=\"Predicting-the-test-data-6.2\"><span class=\"toc-item-num\">6.2&nbsp;&nbsp;</span>Predicting the test data</a></span></li></ul></li></ul></div>"
   ]
  },
  {
   "cell_type": "markdown",
   "metadata": {},
   "source": [
    "# Problem Statement"
   ]
  },
  {
   "cell_type": "markdown",
   "metadata": {},
   "source": [
    "**Can you predict the handwritten digits using machines?**"
   ]
  },
  {
   "cell_type": "markdown",
   "metadata": {},
   "source": [
    "The goal of this project is to create a model that will be able to recognize and determine the handwritten digits from its image by using the concepts of Convolution Neural Network. The major goal of the proposed system is understanding Convolutional Neural Network, and applying it to the handwritten recognition system."
   ]
  },
  {
   "cell_type": "markdown",
   "metadata": {},
   "source": [
    "# Data Source"
   ]
  },
  {
   "cell_type": "markdown",
   "metadata": {},
   "source": [
    "Kaggle - https://www.kaggle.com/c/digit-recognizer/data"
   ]
  },
  {
   "cell_type": "markdown",
   "metadata": {},
   "source": [
    "# Importing the libraries"
   ]
  },
  {
   "cell_type": "code",
   "execution_count": 1,
   "metadata": {},
   "outputs": [],
   "source": [
    "import pandas as pd\n",
    "import numpy as np\n",
    "from tqdm import tqdm\n",
    "\n",
    "# for reading and displaying images\n",
    "from skimage.io import imread\n",
    "from skimage.transform import resize\n",
    "import matplotlib.pyplot as plt\n",
    "import seaborn as sns\n",
    "%matplotlib inline\n",
    "\n",
    "# for creating validation set\n",
    "from sklearn.model_selection import train_test_split\n",
    "\n",
    "# for evaluating the model\n",
    "from sklearn.metrics import accuracy_score"
   ]
  },
  {
   "cell_type": "markdown",
   "metadata": {},
   "source": [
    "# Importing the Dataset"
   ]
  },
  {
   "cell_type": "code",
   "execution_count": 2,
   "metadata": {},
   "outputs": [],
   "source": [
    "train=pd.read_csv(\"C:/Users/mudit/notebook/MNIST/train.csv\")\n",
    "test=pd.read_csv(\"C:/Users/mudit/notebook/MNIST/Test_fCbTej3_0j1gHmj.csv\")\n",
    "train_path=\"C:/Users/mudit/notebook/MNIST/Images/train/\"\n",
    "test_path=\"C:/Users/mudit/notebook/MNIST/Images/test/\""
   ]
  },
  {
   "cell_type": "markdown",
   "metadata": {},
   "source": [
    "## Dataset Info"
   ]
  },
  {
   "cell_type": "code",
   "execution_count": 3,
   "metadata": {},
   "outputs": [
    {
     "data": {
      "text/html": [
       "<div>\n",
       "<style scoped>\n",
       "    .dataframe tbody tr th:only-of-type {\n",
       "        vertical-align: middle;\n",
       "    }\n",
       "\n",
       "    .dataframe tbody tr th {\n",
       "        vertical-align: top;\n",
       "    }\n",
       "\n",
       "    .dataframe thead th {\n",
       "        text-align: right;\n",
       "    }\n",
       "</style>\n",
       "<table border=\"1\" class=\"dataframe\">\n",
       "  <thead>\n",
       "    <tr style=\"text-align: right;\">\n",
       "      <th></th>\n",
       "      <th>filename</th>\n",
       "      <th>label</th>\n",
       "    </tr>\n",
       "  </thead>\n",
       "  <tbody>\n",
       "    <tr>\n",
       "      <th>0</th>\n",
       "      <td>0.png</td>\n",
       "      <td>4</td>\n",
       "    </tr>\n",
       "    <tr>\n",
       "      <th>1</th>\n",
       "      <td>1.png</td>\n",
       "      <td>9</td>\n",
       "    </tr>\n",
       "    <tr>\n",
       "      <th>2</th>\n",
       "      <td>2.png</td>\n",
       "      <td>1</td>\n",
       "    </tr>\n",
       "    <tr>\n",
       "      <th>3</th>\n",
       "      <td>3.png</td>\n",
       "      <td>7</td>\n",
       "    </tr>\n",
       "    <tr>\n",
       "      <th>4</th>\n",
       "      <td>4.png</td>\n",
       "      <td>3</td>\n",
       "    </tr>\n",
       "  </tbody>\n",
       "</table>\n",
       "</div>"
      ],
      "text/plain": [
       "  filename  label\n",
       "0    0.png      4\n",
       "1    1.png      9\n",
       "2    2.png      1\n",
       "3    3.png      7\n",
       "4    4.png      3"
      ]
     },
     "execution_count": 3,
     "metadata": {},
     "output_type": "execute_result"
    }
   ],
   "source": [
    "train.head()"
   ]
  },
  {
   "cell_type": "code",
   "execution_count": 4,
   "metadata": {},
   "outputs": [
    {
     "name": "stdout",
     "output_type": "stream",
     "text": [
      "<class 'pandas.core.frame.DataFrame'>\n",
      "RangeIndex: 49000 entries, 0 to 48999\n",
      "Data columns (total 2 columns):\n",
      " #   Column    Non-Null Count  Dtype \n",
      "---  ------    --------------  ----- \n",
      " 0   filename  49000 non-null  object\n",
      " 1   label     49000 non-null  int64 \n",
      "dtypes: int64(1), object(1)\n",
      "memory usage: 765.8+ KB\n"
     ]
    }
   ],
   "source": [
    "train.info()"
   ]
  },
  {
   "cell_type": "code",
   "execution_count": 5,
   "metadata": {},
   "outputs": [
    {
     "data": {
      "text/html": [
       "<div>\n",
       "<style scoped>\n",
       "    .dataframe tbody tr th:only-of-type {\n",
       "        vertical-align: middle;\n",
       "    }\n",
       "\n",
       "    .dataframe tbody tr th {\n",
       "        vertical-align: top;\n",
       "    }\n",
       "\n",
       "    .dataframe thead th {\n",
       "        text-align: right;\n",
       "    }\n",
       "</style>\n",
       "<table border=\"1\" class=\"dataframe\">\n",
       "  <thead>\n",
       "    <tr style=\"text-align: right;\">\n",
       "      <th></th>\n",
       "      <th>filename</th>\n",
       "    </tr>\n",
       "  </thead>\n",
       "  <tbody>\n",
       "    <tr>\n",
       "      <th>0</th>\n",
       "      <td>49000.png</td>\n",
       "    </tr>\n",
       "    <tr>\n",
       "      <th>1</th>\n",
       "      <td>49001.png</td>\n",
       "    </tr>\n",
       "    <tr>\n",
       "      <th>2</th>\n",
       "      <td>49002.png</td>\n",
       "    </tr>\n",
       "    <tr>\n",
       "      <th>3</th>\n",
       "      <td>49003.png</td>\n",
       "    </tr>\n",
       "    <tr>\n",
       "      <th>4</th>\n",
       "      <td>49004.png</td>\n",
       "    </tr>\n",
       "  </tbody>\n",
       "</table>\n",
       "</div>"
      ],
      "text/plain": [
       "    filename\n",
       "0  49000.png\n",
       "1  49001.png\n",
       "2  49002.png\n",
       "3  49003.png\n",
       "4  49004.png"
      ]
     },
     "execution_count": 5,
     "metadata": {},
     "output_type": "execute_result"
    }
   ],
   "source": [
    "test.head()"
   ]
  },
  {
   "cell_type": "code",
   "execution_count": 6,
   "metadata": {},
   "outputs": [
    {
     "name": "stdout",
     "output_type": "stream",
     "text": [
      "<class 'pandas.core.frame.DataFrame'>\n",
      "RangeIndex: 21000 entries, 0 to 20999\n",
      "Data columns (total 1 columns):\n",
      " #   Column    Non-Null Count  Dtype \n",
      "---  ------    --------------  ----- \n",
      " 0   filename  21000 non-null  object\n",
      "dtypes: object(1)\n",
      "memory usage: 164.2+ KB\n"
     ]
    }
   ],
   "source": [
    "test.info()"
   ]
  },
  {
   "cell_type": "markdown",
   "metadata": {},
   "source": [
    "## Loading train images"
   ]
  },
  {
   "cell_type": "code",
   "execution_count": 7,
   "metadata": {},
   "outputs": [
    {
     "name": "stderr",
     "output_type": "stream",
     "text": [
      "100%|███████████████████████████████████████████████████████████████████████████| 49000/49000 [01:30<00:00, 539.02it/s]\n"
     ]
    },
    {
     "data": {
      "text/plain": [
       "(49000, 28, 28, 1)"
      ]
     },
     "execution_count": 7,
     "metadata": {},
     "output_type": "execute_result"
    }
   ],
   "source": [
    "train_img = []\n",
    "for img_name in tqdm(train['filename']):\n",
    "    # defining the image path\n",
    "    image_path = train_path + img_name\n",
    "    # reading the image\n",
    "    img = imread(image_path)\n",
    "    # normalizing the pixel values\n",
    "    img = img/255\n",
    "    # resizing the image to (28,28,1)\n",
    "    img = resize(img, output_shape=(28,28,1), mode='constant', anti_aliasing=True)\n",
    "    # converting the type of pixel to float 32\n",
    "    img = img.astype('float32')\n",
    "    # appending the image into the list\n",
    "    train_img.append(img)\n",
    "\n",
    "# converting the list to numpy array\n",
    "train_x = np.array(train_img)\n",
    "train_x.shape"
   ]
  },
  {
   "cell_type": "markdown",
   "metadata": {},
   "source": [
    "## Loading test images"
   ]
  },
  {
   "cell_type": "code",
   "execution_count": 8,
   "metadata": {},
   "outputs": [
    {
     "name": "stderr",
     "output_type": "stream",
     "text": [
      "100%|███████████████████████████████████████████████████████████████████████████| 21000/21000 [00:37<00:00, 566.22it/s]\n"
     ]
    },
    {
     "data": {
      "text/plain": [
       "(21000, 28, 28, 1)"
      ]
     },
     "execution_count": 8,
     "metadata": {},
     "output_type": "execute_result"
    }
   ],
   "source": [
    "test_img = []\n",
    "for img_name in tqdm(test['filename']):\n",
    "    # defining the image path\n",
    "    image_path = test_path + img_name\n",
    "    # reading the image\n",
    "    img = imread(image_path)\n",
    "    # normalizing the pixel values\n",
    "    img = img/255\n",
    "    # resizing the image to (28,28,1)\n",
    "    img = resize(img, output_shape=(28,28,1), mode='constant', anti_aliasing=True)\n",
    "    # converting the type of pixel to float 32\n",
    "    img = img.astype('float32')\n",
    "    # appending the image into the list\n",
    "    test_img.append(img)\n",
    "\n",
    "# converting the list to numpy array\n",
    "test_x = np.array(test_img)\n",
    "test_x.shape"
   ]
  },
  {
   "cell_type": "markdown",
   "metadata": {},
   "source": [
    "Saving the loaded image data in the form of numpy array files."
   ]
  },
  {
   "cell_type": "code",
   "execution_count": 9,
   "metadata": {},
   "outputs": [],
   "source": [
    "from numpy import save\n",
    "\n",
    "save('X_train.npy', train_x)\n",
    "save('X_test.npy', test_x)"
   ]
  },
  {
   "cell_type": "code",
   "execution_count": 11,
   "metadata": {},
   "outputs": [],
   "source": [
    "x_train = np.load('C:/Users/mudit/notebook/MNIST/X_train.npy', allow_pickle=True)\n",
    "x_test = np.load('C:/Users/mudit/notebook/MNIST/X_test.npy', allow_pickle=True)"
   ]
  },
  {
   "cell_type": "code",
   "execution_count": 12,
   "metadata": {},
   "outputs": [
    {
     "name": "stdout",
     "output_type": "stream",
     "text": [
      "(49000, 28, 28, 1)\n",
      "(21000, 28, 28, 1)\n"
     ]
    }
   ],
   "source": [
    "print(x_train.shape)\n",
    "print(x_test.shape)"
   ]
  },
  {
   "cell_type": "markdown",
   "metadata": {},
   "source": [
    "# Exploratory Data Analysis"
   ]
  },
  {
   "cell_type": "code",
   "execution_count": 13,
   "metadata": {},
   "outputs": [
    {
     "name": "stdout",
     "output_type": "stream",
     "text": [
      "\n",
      " Shape of the train dataset: (49000, 2)\n"
     ]
    }
   ],
   "source": [
    "print(\"\\n Shape of the train dataset:\", train.shape)"
   ]
  },
  {
   "cell_type": "code",
   "execution_count": 14,
   "metadata": {},
   "outputs": [
    {
     "name": "stdout",
     "output_type": "stream",
     "text": [
      "Series([], dtype: int64)\n"
     ]
    }
   ],
   "source": [
    "#NaN values in the train dataset ?\n",
    "nan = train.isnull().sum()\n",
    "print(nan[nan != 0])"
   ]
  },
  {
   "cell_type": "code",
   "execution_count": 15,
   "metadata": {},
   "outputs": [
    {
     "name": "stdout",
     "output_type": "stream",
     "text": [
      "\n",
      " Shape of the test dataset: (21000, 1)\n"
     ]
    }
   ],
   "source": [
    "print(\"\\n Shape of the test dataset:\", test.shape)"
   ]
  },
  {
   "cell_type": "code",
   "execution_count": 16,
   "metadata": {},
   "outputs": [
    {
     "name": "stdout",
     "output_type": "stream",
     "text": [
      "Series([], dtype: int64)\n"
     ]
    }
   ],
   "source": [
    "#NaN values in the test dataset ?\n",
    "nan = test.isnull().sum()\n",
    "print(nan[nan != 0])"
   ]
  },
  {
   "cell_type": "code",
   "execution_count": 17,
   "metadata": {},
   "outputs": [
    {
     "name": "stdout",
     "output_type": "stream",
     "text": [
      "(49000,)\n",
      "(49000, 10)\n",
      "[0. 0. 0. 0. 1. 0. 0. 0. 0. 0.]\n"
     ]
    }
   ],
   "source": [
    "y_train = train['label']\n",
    "from tensorflow.keras.utils import to_categorical\n",
    "print(y_train.shape)\n",
    "y_train = to_categorical(y_train, num_classes=10)\n",
    "print(y_train.shape)\n",
    "print(y_train[0])"
   ]
  },
  {
   "cell_type": "markdown",
   "metadata": {},
   "source": [
    "## Countplot\n",
    "To determine the count of each label in the train data."
   ]
  },
  {
   "cell_type": "code",
   "execution_count": 18,
   "metadata": {},
   "outputs": [
    {
     "data": {
      "image/png": "[encoded data removed]",
      "text/plain": [
       "<Figure size 432x288 with 1 Axes>"
      ]
     },
     "metadata": {
      "needs_background": "light"
     },
     "output_type": "display_data"
    }
   ],
   "source": [
    "sns.countplot(x=train['label'])\n",
    "plt.show()"
   ]
  },
  {
   "cell_type": "markdown",
   "metadata": {},
   "source": [
    "## View the images in the dataset"
   ]
  },
  {
   "cell_type": "code",
   "execution_count": 19,
   "metadata": {},
   "outputs": [
    {
     "name": "stderr",
     "output_type": "stream",
     "text": [
      "100%|███████████████████████████████████████████████████████████████████████████| 49000/49000 [01:22<00:00, 594.13it/s]\n"
     ]
    }
   ],
   "source": [
    "train_images = []\n",
    "for img_name in tqdm(train['filename']):\n",
    "    image_path = train_path + img_name\n",
    "    img = imread(image_path)\n",
    "    train_images.append(img)"
   ]
  },
  {
   "cell_type": "code",
   "execution_count": 20,
   "metadata": {},
   "outputs": [
    {
     "data": {
      "image/png": "[encoded data removed]",
      "text/plain": [
       "<Figure size 1440x720 with 6 Axes>"
      ]
     },
     "metadata": {
      "needs_background": "light"
     },
     "output_type": "display_data"
    }
   ],
   "source": [
    "plt.figure(figsize=(20,10))\n",
    "for i in range(6):\n",
    "    plt.subplot(330+1+i)\n",
    "    plt.imshow(train_images[i])\n",
    "plt.show()"
   ]
  },
  {
   "cell_type": "markdown",
   "metadata": {},
   "source": [
    "# Model Building"
   ]
  },
  {
   "cell_type": "code",
   "execution_count": 21,
   "metadata": {},
   "outputs": [],
   "source": [
    "import tensorflow as tf"
   ]
  },
  {
   "cell_type": "code",
   "execution_count": 22,
   "metadata": {},
   "outputs": [],
   "source": [
    "cnn = tf.keras.models.Sequential()\n",
    "cnn.add(tf.keras.layers.Conv2D(input_shape=[28,28,1],kernel_size=3,filters=32,activation='relu'))\n",
    "cnn.add(tf.keras.layers.MaxPool2D(pool_size=2,strides=2))\n",
    "cnn.add(tf.keras.layers.Conv2D(kernel_size=3,filters=32,activation='relu'))\n",
    "cnn.add(tf.keras.layers.MaxPool2D(pool_size=2,strides=2))\n",
    "cnn.add(tf.keras.layers.Flatten())\n",
    "cnn.add(tf.keras.layers.Dense(units=128,activation='relu'))\n",
    "cnn.add(tf.keras.layers.Dense(units=10,activation='softmax'))"
   ]
  },
  {
   "cell_type": "code",
   "execution_count": 23,
   "metadata": {},
   "outputs": [],
   "source": [
    "cnn.compile(optimizer='adam',loss='categorical_crossentropy',metrics=['accuracy'])"
   ]
  },
  {
   "cell_type": "code",
   "execution_count": 24,
   "metadata": {},
   "outputs": [
    {
     "name": "stdout",
     "output_type": "stream",
     "text": [
      "Model: \"sequential\"\n",
      "_________________________________________________________________\n",
      "Layer (type)                 Output Shape              Param #   \n",
      "=================================================================\n",
      "conv2d (Conv2D)              (None, 26, 26, 32)        320       \n",
      "_________________________________________________________________\n",
      "max_pooling2d (MaxPooling2D) (None, 13, 13, 32)        0         \n",
      "_________________________________________________________________\n",
      "conv2d_1 (Conv2D)            (None, 11, 11, 32)        9248      \n",
      "_________________________________________________________________\n",
      "max_pooling2d_1 (MaxPooling2 (None, 5, 5, 32)          0         \n",
      "_________________________________________________________________\n",
      "flatten (Flatten)            (None, 800)               0         \n",
      "_________________________________________________________________\n",
      "dense (Dense)                (None, 128)               102528    \n",
      "_________________________________________________________________\n",
      "dense_1 (Dense)              (None, 10)                1290      \n",
      "=================================================================\n",
      "Total params: 113,386\n",
      "Trainable params: 113,386\n",
      "Non-trainable params: 0\n",
      "_________________________________________________________________\n"
     ]
    }
   ],
   "source": [
    "cnn.summary()"
   ]
  },
  {
   "cell_type": "code",
   "execution_count": 25,
   "metadata": {},
   "outputs": [],
   "source": [
    "datagen = tf.keras.preprocessing.image.ImageDataGenerator(rotation_range=10, width_shift_range=0.1, \n",
    "                                                            shear_range=10, height_shift_range=0.1, zoom_range=0.2)\n",
    "datagen.fit(x_train)"
   ]
  },
  {
   "cell_type": "code",
   "execution_count": 26,
   "metadata": {},
   "outputs": [],
   "source": [
    "x_train, x_val, y_train, y_val = train_test_split(x_train, y_train, test_size = 0.1, random_state=0)"
   ]
  },
  {
   "cell_type": "markdown",
   "metadata": {},
   "source": [
    "I chose to split the train set in two parts : a small fraction (10%) became the validation set which the model is evaluated and the rest (90%) is used to train the model."
   ]
  },
  {
   "cell_type": "code",
   "execution_count": 27,
   "metadata": {},
   "outputs": [
    {
     "name": "stdout",
     "output_type": "stream",
     "text": [
      "Epoch 1/5\n",
      "1379/1378 [==============================] - 17s 12ms/step - loss: 0.4712 - accuracy: 0.8496 - val_loss: 0.1191 - val_accuracy: 0.9584\n",
      "Epoch 2/5\n",
      "1379/1378 [==============================] - 16s 12ms/step - loss: 0.1706 - accuracy: 0.9487 - val_loss: 0.1090 - val_accuracy: 0.9671\n",
      "Epoch 3/5\n",
      "1379/1378 [==============================] - 17s 12ms/step - loss: 0.1217 - accuracy: 0.9632 - val_loss: 0.0577 - val_accuracy: 0.9837\n",
      "Epoch 4/5\n",
      "1379/1378 [==============================] - 17s 12ms/step - loss: 0.0994 - accuracy: 0.9698 - val_loss: 0.0421 - val_accuracy: 0.9859\n",
      "Epoch 5/5\n",
      "1379/1378 [==============================] - 18s 13ms/step - loss: 0.0849 - accuracy: 0.9741 - val_loss: 0.0489 - val_accuracy: 0.9833\n"
     ]
    }
   ],
   "source": [
    "history=cnn.fit(datagen.flow(x_train, y_train, batch_size=32,shuffle=True),validation_data = (x_val,y_val),\n",
    "                    steps_per_epoch=len(x_train) /32, epochs=5,verbose=1)"
   ]
  },
  {
   "cell_type": "markdown",
   "metadata": {},
   "source": [
    "## Evaluating the model performance"
   ]
  },
  {
   "cell_type": "markdown",
   "metadata": {},
   "source": [
    "### Plotting the loss and accuracy curves for training and validation"
   ]
  },
  {
   "cell_type": "code",
   "execution_count": 28,
   "metadata": {},
   "outputs": [
    {
     "data": {
      "image/png": "[encoded data removed]",
      "text/plain": [
       "<Figure size 432x288 with 2 Axes>"
      ]
     },
     "metadata": {
      "needs_background": "light"
     },
     "output_type": "display_data"
    }
   ],
   "source": [
    "fig, ax = plt.subplots(2,1)\n",
    "ax[0].plot(history.history['loss'], color='b', label=\"Training loss\")\n",
    "ax[0].plot(history.history['val_loss'], color='r', label=\"validation loss\",axes =ax[0])\n",
    "legend = ax[0].legend(loc='best', shadow=True)\n",
    "\n",
    "ax[1].plot(history.history['accuracy'], color='b', label=\"Training accuracy\")\n",
    "ax[1].plot(history.history['val_accuracy'], color='r',label=\"Validation accuracy\")\n",
    "legend = ax[1].legend(loc='best', shadow=True)"
   ]
  },
  {
   "cell_type": "markdown",
   "metadata": {},
   "source": [
    "### Plotting the Confusion Matrix"
   ]
  },
  {
   "cell_type": "code",
   "execution_count": 29,
   "metadata": {},
   "outputs": [
    {
     "data": {
      "image/png": "[encoded data removed]",
      "text/plain": [
       "<Figure size 432x288 with 1 Axes>"
      ]
     },
     "metadata": {
      "needs_background": "light"
     },
     "output_type": "display_data"
    }
   ],
   "source": [
    "import itertools\n",
    "from sklearn.metrics import confusion_matrix\n",
    "\n",
    "def plot_confusion_matrix(cm, classes, title='Confusion matrix', cmap=plt.cm.Blues):\n",
    "    \"\"\"\n",
    "    This function prints and plots the confusion matrix.\n",
    "    Normalization can be applied by setting `normalize=True`.\n",
    "    \"\"\"\n",
    "    plt.imshow(cm, cmap=cmap)\n",
    "    plt.title(title)\n",
    "    tick_marks = np.arange(len(classes))\n",
    "    plt.xticks(tick_marks, classes)\n",
    "    plt.yticks(tick_marks, classes)\n",
    "\n",
    "\n",
    "    threshold = cm.max() / 2.\n",
    "    for i, j in itertools.product(range(cm.shape[0]), range(cm.shape[1])):\n",
    "        plt.text(j, i, cm[i, j],\n",
    "                 horizontalalignment=\"center\",\n",
    "                 color=\"white\" if cm[i, j] > threshold else \"black\")\n",
    "\n",
    "    plt.ylabel('True label')\n",
    "    plt.xlabel('Predicted label')\n",
    "\n",
    "# Predict the values from the validation dataset\n",
    "y_pred = cnn.predict(x_val)\n",
    "# Convert predictions classes to one hot vectors \n",
    "y_pred_classes = np.argmax(y_pred,axis = 1) \n",
    "# Convert validation observations to one hot vectors\n",
    "y_true = np.argmax(y_val,axis = 1) \n",
    "# plot the confusion matrix\n",
    "plot_confusion_matrix(confusion_matrix(y_true, y_pred_classes), classes = range(10)) "
   ]
  },
  {
   "cell_type": "markdown",
   "metadata": {},
   "source": [
    "## Predicting the test data"
   ]
  },
  {
   "cell_type": "code",
   "execution_count": 30,
   "metadata": {},
   "outputs": [
    {
     "data": {
      "text/plain": [
       "array([[3.5748236e-12, 8.0541962e-11, 5.6027083e-10, ..., 2.2992865e-09,\n",
       "        9.5514138e-11, 4.5484172e-09],\n",
       "       [9.9777764e-01, 9.3018696e-07, 1.2859781e-03, ..., 1.3709277e-08,\n",
       "        4.7532894e-04, 4.3606138e-05],\n",
       "       [3.0411830e-02, 1.7613329e-08, 6.9867435e-04, ..., 5.2893894e-05,\n",
       "        6.3311285e-04, 9.6449620e-01],\n",
       "       ...,\n",
       "       [2.7927042e-06, 2.5874933e-10, 1.7942104e-07, ..., 3.7122814e-12,\n",
       "        9.7622774e-08, 4.1995318e-10],\n",
       "       [1.0678951e-06, 2.7152980e-08, 4.8809735e-08, ..., 4.1547560e-12,\n",
       "        1.7609912e-07, 4.4336146e-10],\n",
       "       [7.6577152e-07, 3.6112425e-08, 9.9998879e-01, ..., 1.5583415e-09,\n",
       "        2.4858531e-08, 6.7209593e-09]], dtype=float32)"
      ]
     },
     "execution_count": 30,
     "metadata": {},
     "output_type": "execute_result"
    }
   ],
   "source": [
    "cnn.predict(x_test)"
   ]
  },
  {
   "cell_type": "code",
   "execution_count": 31,
   "metadata": {},
   "outputs": [
    {
     "data": {
      "text/html": [
       "<div>\n",
       "<style scoped>\n",
       "    .dataframe tbody tr th:only-of-type {\n",
       "        vertical-align: middle;\n",
       "    }\n",
       "\n",
       "    .dataframe tbody tr th {\n",
       "        vertical-align: top;\n",
       "    }\n",
       "\n",
       "    .dataframe thead th {\n",
       "        text-align: right;\n",
       "    }\n",
       "</style>\n",
       "<table border=\"1\" class=\"dataframe\">\n",
       "  <thead>\n",
       "    <tr style=\"text-align: right;\">\n",
       "      <th></th>\n",
       "      <th>0</th>\n",
       "      <th>1</th>\n",
       "      <th>2</th>\n",
       "      <th>3</th>\n",
       "      <th>4</th>\n",
       "      <th>5</th>\n",
       "      <th>6</th>\n",
       "      <th>7</th>\n",
       "      <th>8</th>\n",
       "      <th>9</th>\n",
       "    </tr>\n",
       "  </thead>\n",
       "  <tbody>\n",
       "    <tr>\n",
       "      <th>0</th>\n",
       "      <td>3.574824e-12</td>\n",
       "      <td>8.054196e-11</td>\n",
       "      <td>5.602708e-10</td>\n",
       "      <td>6.218802e-12</td>\n",
       "      <td>1.000000e+00</td>\n",
       "      <td>1.723974e-11</td>\n",
       "      <td>4.121104e-10</td>\n",
       "      <td>2.299287e-09</td>\n",
       "      <td>9.551414e-11</td>\n",
       "      <td>4.548417e-09</td>\n",
       "    </tr>\n",
       "    <tr>\n",
       "      <th>1</th>\n",
       "      <td>9.977776e-01</td>\n",
       "      <td>9.301870e-07</td>\n",
       "      <td>1.285978e-03</td>\n",
       "      <td>1.318042e-07</td>\n",
       "      <td>6.337967e-05</td>\n",
       "      <td>2.139860e-09</td>\n",
       "      <td>3.528895e-04</td>\n",
       "      <td>1.370928e-08</td>\n",
       "      <td>4.753289e-04</td>\n",
       "      <td>4.360614e-05</td>\n",
       "    </tr>\n",
       "    <tr>\n",
       "      <th>2</th>\n",
       "      <td>3.041183e-02</td>\n",
       "      <td>1.761333e-08</td>\n",
       "      <td>6.986744e-04</td>\n",
       "      <td>3.312392e-03</td>\n",
       "      <td>3.544360e-04</td>\n",
       "      <td>3.642875e-05</td>\n",
       "      <td>4.014922e-06</td>\n",
       "      <td>5.289389e-05</td>\n",
       "      <td>6.331129e-04</td>\n",
       "      <td>9.644962e-01</td>\n",
       "    </tr>\n",
       "    <tr>\n",
       "      <th>3</th>\n",
       "      <td>4.443670e-06</td>\n",
       "      <td>2.093031e-05</td>\n",
       "      <td>8.551038e-04</td>\n",
       "      <td>4.735266e-05</td>\n",
       "      <td>8.897330e-07</td>\n",
       "      <td>1.299543e-07</td>\n",
       "      <td>4.883871e-10</td>\n",
       "      <td>9.990582e-01</td>\n",
       "      <td>2.338490e-06</td>\n",
       "      <td>1.058862e-05</td>\n",
       "    </tr>\n",
       "    <tr>\n",
       "      <th>4</th>\n",
       "      <td>6.827753e-11</td>\n",
       "      <td>6.763844e-13</td>\n",
       "      <td>1.032566e-08</td>\n",
       "      <td>6.296341e-09</td>\n",
       "      <td>1.218630e-05</td>\n",
       "      <td>2.163338e-07</td>\n",
       "      <td>6.991291e-12</td>\n",
       "      <td>1.861823e-06</td>\n",
       "      <td>6.987790e-05</td>\n",
       "      <td>9.999158e-01</td>\n",
       "    </tr>\n",
       "    <tr>\n",
       "      <th>...</th>\n",
       "      <td>...</td>\n",
       "      <td>...</td>\n",
       "      <td>...</td>\n",
       "      <td>...</td>\n",
       "      <td>...</td>\n",
       "      <td>...</td>\n",
       "      <td>...</td>\n",
       "      <td>...</td>\n",
       "      <td>...</td>\n",
       "      <td>...</td>\n",
       "    </tr>\n",
       "    <tr>\n",
       "      <th>20995</th>\n",
       "      <td>6.678944e-05</td>\n",
       "      <td>8.922661e-06</td>\n",
       "      <td>6.000007e-06</td>\n",
       "      <td>6.915207e-06</td>\n",
       "      <td>8.889020e-03</td>\n",
       "      <td>3.509909e-07</td>\n",
       "      <td>3.753720e-08</td>\n",
       "      <td>3.920595e-03</td>\n",
       "      <td>1.251429e-05</td>\n",
       "      <td>9.870889e-01</td>\n",
       "    </tr>\n",
       "    <tr>\n",
       "      <th>20996</th>\n",
       "      <td>1.790682e-08</td>\n",
       "      <td>3.769129e-08</td>\n",
       "      <td>9.999989e-01</td>\n",
       "      <td>7.400164e-07</td>\n",
       "      <td>1.323261e-10</td>\n",
       "      <td>1.801563e-11</td>\n",
       "      <td>9.615539e-12</td>\n",
       "      <td>1.671680e-08</td>\n",
       "      <td>3.486401e-07</td>\n",
       "      <td>2.183130e-09</td>\n",
       "    </tr>\n",
       "    <tr>\n",
       "      <th>20997</th>\n",
       "      <td>2.792704e-06</td>\n",
       "      <td>2.587493e-10</td>\n",
       "      <td>1.794210e-07</td>\n",
       "      <td>1.446502e-11</td>\n",
       "      <td>2.699727e-07</td>\n",
       "      <td>7.774342e-07</td>\n",
       "      <td>9.999958e-01</td>\n",
       "      <td>3.712281e-12</td>\n",
       "      <td>9.762277e-08</td>\n",
       "      <td>4.199532e-10</td>\n",
       "    </tr>\n",
       "    <tr>\n",
       "      <th>20998</th>\n",
       "      <td>1.067895e-06</td>\n",
       "      <td>2.715298e-08</td>\n",
       "      <td>4.880973e-08</td>\n",
       "      <td>1.842040e-10</td>\n",
       "      <td>8.196461e-07</td>\n",
       "      <td>1.111811e-06</td>\n",
       "      <td>9.999968e-01</td>\n",
       "      <td>4.154756e-12</td>\n",
       "      <td>1.760991e-07</td>\n",
       "      <td>4.433615e-10</td>\n",
       "    </tr>\n",
       "    <tr>\n",
       "      <th>20999</th>\n",
       "      <td>7.657715e-07</td>\n",
       "      <td>3.611243e-08</td>\n",
       "      <td>9.999888e-01</td>\n",
       "      <td>1.041955e-05</td>\n",
       "      <td>1.795502e-09</td>\n",
       "      <td>9.085357e-10</td>\n",
       "      <td>7.063564e-13</td>\n",
       "      <td>1.558341e-09</td>\n",
       "      <td>2.485853e-08</td>\n",
       "      <td>6.720959e-09</td>\n",
       "    </tr>\n",
       "  </tbody>\n",
       "</table>\n",
       "<p>21000 rows × 10 columns</p>\n",
       "</div>"
      ],
      "text/plain": [
       "                  0             1             2             3             4  \\\n",
       "0      3.574824e-12  8.054196e-11  5.602708e-10  6.218802e-12  1.000000e+00   \n",
       "1      9.977776e-01  9.301870e-07  1.285978e-03  1.318042e-07  6.337967e-05   \n",
       "2      3.041183e-02  1.761333e-08  6.986744e-04  3.312392e-03  3.544360e-04   \n",
       "3      4.443670e-06  2.093031e-05  8.551038e-04  4.735266e-05  8.897330e-07   \n",
       "4      6.827753e-11  6.763844e-13  1.032566e-08  6.296341e-09  1.218630e-05   \n",
       "...             ...           ...           ...           ...           ...   \n",
       "20995  6.678944e-05  8.922661e-06  6.000007e-06  6.915207e-06  8.889020e-03   \n",
       "20996  1.790682e-08  3.769129e-08  9.999989e-01  7.400164e-07  1.323261e-10   \n",
       "20997  2.792704e-06  2.587493e-10  1.794210e-07  1.446502e-11  2.699727e-07   \n",
       "20998  1.067895e-06  2.715298e-08  4.880973e-08  1.842040e-10  8.196461e-07   \n",
       "20999  7.657715e-07  3.611243e-08  9.999888e-01  1.041955e-05  1.795502e-09   \n",
       "\n",
       "                  5             6             7             8             9  \n",
       "0      1.723974e-11  4.121104e-10  2.299287e-09  9.551414e-11  4.548417e-09  \n",
       "1      2.139860e-09  3.528895e-04  1.370928e-08  4.753289e-04  4.360614e-05  \n",
       "2      3.642875e-05  4.014922e-06  5.289389e-05  6.331129e-04  9.644962e-01  \n",
       "3      1.299543e-07  4.883871e-10  9.990582e-01  2.338490e-06  1.058862e-05  \n",
       "4      2.163338e-07  6.991291e-12  1.861823e-06  6.987790e-05  9.999158e-01  \n",
       "...             ...           ...           ...           ...           ...  \n",
       "20995  3.509909e-07  3.753720e-08  3.920595e-03  1.251429e-05  9.870889e-01  \n",
       "20996  1.801563e-11  9.615539e-12  1.671680e-08  3.486401e-07  2.183130e-09  \n",
       "20997  7.774342e-07  9.999958e-01  3.712281e-12  9.762277e-08  4.199532e-10  \n",
       "20998  1.111811e-06  9.999968e-01  4.154756e-12  1.760991e-07  4.433615e-10  \n",
       "20999  9.085357e-10  7.063564e-13  1.558341e-09  2.485853e-08  6.720959e-09  \n",
       "\n",
       "[21000 rows x 10 columns]"
      ]
     },
     "execution_count": 31,
     "metadata": {},
     "output_type": "execute_result"
    }
   ],
   "source": [
    "pd.DataFrame(cnn.predict(x_test))"
   ]
  },
  {
   "cell_type": "code",
   "execution_count": 32,
   "metadata": {},
   "outputs": [
    {
     "name": "stderr",
     "output_type": "stream",
     "text": [
      "21000it [00:01, 10580.81it/s]\n"
     ]
    }
   ],
   "source": [
    "# loading training images\n",
    "test_res = []\n",
    "for j,i in tqdm(pd.DataFrame(cnn.predict(x_test)).iterrows()):\n",
    "    test_res.append(i.argmax())       "
   ]
  },
  {
   "cell_type": "code",
   "execution_count": 33,
   "metadata": {},
   "outputs": [],
   "source": [
    "test['label']=test_res"
   ]
  },
  {
   "cell_type": "code",
   "execution_count": 34,
   "metadata": {},
   "outputs": [
    {
     "data": {
      "text/html": [
       "<div>\n",
       "<style scoped>\n",
       "    .dataframe tbody tr th:only-of-type {\n",
       "        vertical-align: middle;\n",
       "    }\n",
       "\n",
       "    .dataframe tbody tr th {\n",
       "        vertical-align: top;\n",
       "    }\n",
       "\n",
       "    .dataframe thead th {\n",
       "        text-align: right;\n",
       "    }\n",
       "</style>\n",
       "<table border=\"1\" class=\"dataframe\">\n",
       "  <thead>\n",
       "    <tr style=\"text-align: right;\">\n",
       "      <th></th>\n",
       "      <th>filename</th>\n",
       "      <th>label</th>\n",
       "    </tr>\n",
       "  </thead>\n",
       "  <tbody>\n",
       "    <tr>\n",
       "      <th>0</th>\n",
       "      <td>49000.png</td>\n",
       "      <td>4</td>\n",
       "    </tr>\n",
       "    <tr>\n",
       "      <th>1</th>\n",
       "      <td>49001.png</td>\n",
       "      <td>0</td>\n",
       "    </tr>\n",
       "    <tr>\n",
       "      <th>2</th>\n",
       "      <td>49002.png</td>\n",
       "      <td>9</td>\n",
       "    </tr>\n",
       "    <tr>\n",
       "      <th>3</th>\n",
       "      <td>49003.png</td>\n",
       "      <td>7</td>\n",
       "    </tr>\n",
       "    <tr>\n",
       "      <th>4</th>\n",
       "      <td>49004.png</td>\n",
       "      <td>9</td>\n",
       "    </tr>\n",
       "    <tr>\n",
       "      <th>...</th>\n",
       "      <td>...</td>\n",
       "      <td>...</td>\n",
       "    </tr>\n",
       "    <tr>\n",
       "      <th>20995</th>\n",
       "      <td>69995.png</td>\n",
       "      <td>9</td>\n",
       "    </tr>\n",
       "    <tr>\n",
       "      <th>20996</th>\n",
       "      <td>69996.png</td>\n",
       "      <td>2</td>\n",
       "    </tr>\n",
       "    <tr>\n",
       "      <th>20997</th>\n",
       "      <td>69997.png</td>\n",
       "      <td>6</td>\n",
       "    </tr>\n",
       "    <tr>\n",
       "      <th>20998</th>\n",
       "      <td>69998.png</td>\n",
       "      <td>6</td>\n",
       "    </tr>\n",
       "    <tr>\n",
       "      <th>20999</th>\n",
       "      <td>69999.png</td>\n",
       "      <td>2</td>\n",
       "    </tr>\n",
       "  </tbody>\n",
       "</table>\n",
       "<p>21000 rows × 2 columns</p>\n",
       "</div>"
      ],
      "text/plain": [
       "        filename  label\n",
       "0      49000.png      4\n",
       "1      49001.png      0\n",
       "2      49002.png      9\n",
       "3      49003.png      7\n",
       "4      49004.png      9\n",
       "...          ...    ...\n",
       "20995  69995.png      9\n",
       "20996  69996.png      2\n",
       "20997  69997.png      6\n",
       "20998  69998.png      6\n",
       "20999  69999.png      2\n",
       "\n",
       "[21000 rows x 2 columns]"
      ]
     },
     "execution_count": 34,
     "metadata": {},
     "output_type": "execute_result"
    }
   ],
   "source": [
    "test"
   ]
  },
  {
   "cell_type": "code",
   "execution_count": 35,
   "metadata": {},
   "outputs": [],
   "source": [
    "pd.DataFrame(test).to_csv('C:/Users/mudit/notebook/MNIST/test_MNIST.csv', index=False)"
   ]
  },
  {
   "cell_type": "code",
   "execution_count": 36,
   "metadata": {},
   "outputs": [],
   "source": [
    "cnn.save(\"model_mnist_digit.h5\")"
   ]
  }
 ],
 "metadata": {
  "kernelspec": {
   "display_name": "Python 3",
   "language": "python",
   "name": "python3"
  },
  "language_info": {
   "codemirror_mode": {
    "name": "ipython",
    "version": 3
   },
   "file_extension": ".py",
   "mimetype": "text/x-python",
   "name": "python",
   "nbconvert_exporter": "python",
   "pygments_lexer": "ipython3",
   "version": "3.8.6"
  },
  "toc": {
   "base_numbering": 1,
   "nav_menu": {},
   "number_sections": true,
   "sideBar": true,
   "skip_h1_title": false,
   "title_cell": "Table of Contents",
   "title_sidebar": "Contents",
   "toc_cell": true,
   "toc_position": {},
   "toc_section_display": true,
   "toc_window_display": false
  }
 },
 "nbformat": 4,
 "nbformat_minor": 4
}
